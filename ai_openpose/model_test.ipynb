{
 "cells": [
  {
   "cell_type": "code",
   "execution_count": null,
   "metadata": {
    "collapsed": false,
    "scrolled": false
   },
   "outputs": [],
   "source": [
    "#!/usr/bin/python2\n",
    "# encoding=utf-8\n",
    "use_mpi_model = False\n",
    "import sys,cv2,os,argparse,copy\n",
    "from img2keypoint_using_ai import parse_heatpaf\n",
    "from pprint import pprint\n",
    "sys.path.append(\"/data1/yks/mxnet_ai/mxnet_pose_for_AI_challenger\")\n",
    "from modelCPMWeight import CPMModel_test\n",
    "if not use_mpi_model:\n",
    "    from train import numoflinks,numofparts,save_prefix\n",
    "    start_epoch = 4700\n",
    "else:\n",
    "    save_prefix = \"../../models/openpose/realtimePose_mpi\"\n",
    "    start_epoch=0\n",
    "    numofparts = 16\n",
    "    numoflinks = 28\n",
    "import matplotlib.pyplot as plt\n",
    "%matplotlib inline\n",
    "def imshow(x,y):\n",
    "    fig = plt.gcf();fig.set_size_inches(8, 8);plt.title(x); plt.imshow(y);plt.show()\n",
    "import mxnet as mx\n",
    "import numpy as np\n",
    "max_img_shape = (368,368)\n",
    "imgshape_bind = (max_img_shape,)\n",
    "def padimg(img,destsize):\n",
    "    s = img.shape\n",
    "    print img.shape,destsize/s[1],destsize/s[1]\n",
    "\n",
    "    if(s[0] > s[1]):\n",
    "        img_d = cv2.resize(img,dsize = None,fx = 1.0 * destsize/s[0], fy = 1.0 * destsize/s[0])\n",
    "        img_temp = np.ones(shape = (destsize,destsize,3),dtype=np.uint8) * 128\n",
    "        sd = img_d.shape\n",
    "        img_temp[0:sd[0],0:sd[1],0:sd[2]]=img_d\n",
    "    else:\n",
    "        img_d = cv2.resize(img,dsize = None,fx = 1.0 * destsize/s[1],fy = 1.0 * destsize/s[1])\n",
    "        img_temp = np.ones(shape = (destsize,destsize,3),dtype=np.uint8) * 128 \n",
    "        sd = img_d.shape\n",
    "        img_temp[0:sd[0],0:sd[1],0:sd[2]]=img_d\n",
    "    return img_temp\n",
    "def getHeatAndPAF(img_path,models):\n",
    "    oriImg = cv2.imread(img_path) # B,G,R order\n",
    "    oriImg = padimg(oriImg,max_img_shape[0])\n",
    "    class DataBatch(object):\n",
    "        def __init__(self, data, label, pad=0):\n",
    "            self.data = [data]\n",
    "            self.label = 0\n",
    "            self.pad = pad\n",
    "    def preprocess(x_):\n",
    "        r = []\n",
    "        for size in imgshape_bind:\n",
    "            imgs_resize = cv2.resize(x_, (size[0], size[1]), interpolation=cv2.INTER_CUBIC)\n",
    "            imgs_transpose = np.transpose(np.float32(imgs_resize[:,:,:]), (2,0,1))/256 - 0.5\n",
    "            imgs_batch = DataBatch(mx.nd.array([imgs_transpose[:,:,:]]), 0)\n",
    "            r.append(imgs_batch)\n",
    "        return r\n",
    "    def suffix_heatmap(heatmap,size):\n",
    "        heatmap = np.moveaxis(heatmap.asnumpy()[0], 0, -1)\n",
    "        heatmap = cv2.resize(heatmap, (size[0], size[1]), interpolation=cv2.INTER_CUBIC)            \n",
    "        return heatmap\n",
    "    def suffix_paf(paf,size):\n",
    "        paf = np.moveaxis(paf.asnumpy()[0], 0, -1)\n",
    "        paf = cv2.resize(paf, (size[0], size[1]), interpolation=cv2.INTER_CUBIC)\n",
    "        return paf\n",
    "    \n",
    "    def _getHeatPAF(args):\n",
    "        onedata,model = args\n",
    "        model.forward(onedata)\n",
    "        result = model.get_outputs()\n",
    "        max_shape = (oriImg.shape[0],oriImg.shape[1])\n",
    "        heatmap = suffix_heatmap(result[1],max_shape)\n",
    "        paf =     suffix_paf(    result[0],max_shape)\n",
    "        return (heatmap,paf)\n",
    "\n",
    "    imgs = preprocess(oriImg)\n",
    "    results = _getHeatPAF((imgs[0],models[0]))\n",
    "    heatmap_avg,paf_avg = results\n",
    "\n",
    "    return img_path,oriImg,heatmap_avg,paf_avg\n",
    "def getModel(prefix,epoch,gpus = [0]):\n",
    "    sym  = CPMModel_test()\n",
    "    batch_size = 1\n",
    "    sym_load, newargs, _ = mx.model.load_checkpoint(prefix, epoch)\n",
    "    if use_mpi_model:\n",
    "        sym = sym_load\n",
    "    model = mx.mod.Module(symbol=sym, context=[mx.gpu(x) for x in gpus],                        \n",
    "                          label_names=['heatmaplabel',\n",
    "                                'partaffinityglabel',\n",
    "                                'heatweight',\n",
    "                                'vecweight'])\n",
    "    model.bind(data_shapes=[('data', (batch_size, 3, max_img_shape[0], max_img_shape[1]))],for_training = False)\n",
    "    model.init_params(arg_params=newargs, aux_params={}, allow_missing=False)\n",
    "    return model\n",
    "\n"
   ]
  },
  {
   "cell_type": "code",
   "execution_count": null,
   "metadata": {
    "collapsed": true
   },
   "outputs": [],
   "source": [
    "def test(imgs_path):\n",
    "    cmodel = getModel(save_prefix,start_epoch)\n",
    "    for x,y,z in os.walk(imgs_path):\n",
    "        for name in z:\n",
    "            img_path = os.path.join(x,name)\n",
    "            pprint(img_path)\n",
    "            img_path,oriImg,heatmap_avg,paf_avg = getHeatAndPAF(img_path,[cmodel])\n",
    "            imshow(\"heatmap_avg\",np.float32( heatmap_avg[:,:,14]))\n",
    "            imshow(\"oriImg\",oriImg)\n",
    "            parse_heatpaf(img_path,oriImg,heatmap_avg,paf_avg,\"/tmp/tmp.json\",im_show_cb = imshow)\n",
    "            \n",
    "#             for i in range(heatmap_avg.shape[2]):\n",
    "#                 imshow(\"heatmap_{0}\".format(i),heatmap_avg[:,:,i] )\n",
    "#             for i in range(paf_avg.shape[2]):\n",
    "#                 paf = np.sqrt(paf_avg[:,:,i * 2].astype(np.float32) ** 2 +\n",
    "#                               paf_avg[:,:,i *2 +1].astype(np.float32) **2) \n",
    "#                 print(paf.shape)\n",
    "                \n",
    "#                 imshow(\"paf_avg_{0}\".format(i),paf)\n",
    "\n"
   ]
  },
  {
   "cell_type": "code",
   "execution_count": null,
   "metadata": {
    "collapsed": true
   },
   "outputs": [],
   "source": []
  },
  {
   "cell_type": "code",
   "execution_count": null,
   "metadata": {
    "collapsed": false,
    "scrolled": false
   },
   "outputs": [],
   "source": [
    "if __name__ == \"__main__\":\n",
    "    #test(\"/data1/yks/dataset/ai_challenger/ai_challenger_keypoint_validation_20170911/keypoint_validation_images_20170911\")\n",
    "     test('/data1/yks/dataset/openpose_dataset/mpi/images/')   "
   ]
  },
  {
   "cell_type": "code",
   "execution_count": null,
   "metadata": {
    "collapsed": true
   },
   "outputs": [],
   "source": []
  }
 ],
 "metadata": {
  "kernelspec": {
   "display_name": "Python 2",
   "language": "python",
   "name": "python2"
  },
  "language_info": {
   "codemirror_mode": {
    "name": "ipython",
    "version": 2
   },
   "file_extension": ".py",
   "mimetype": "text/x-python",
   "name": "python",
   "nbconvert_exporter": "python",
   "pygments_lexer": "ipython2",
   "version": "2.7.13"
  }
 },
 "nbformat": 4,
 "nbformat_minor": 0
}
