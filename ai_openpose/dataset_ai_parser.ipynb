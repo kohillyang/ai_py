{
 "cells": [
  {
   "cell_type": "code",
   "execution_count": 12,
   "metadata": {
    "collapsed": true
   },
   "outputs": [],
   "source": [
    "import numpy as np\n",
    "import json\n",
    "from pprint import pprint\n",
    "jsonpath = \"/data1/yks/dataset/ai_challenger/ai_challenger_keypoint_train_20170909/keypoint_train_annotations_20170909.json\""
   ]
  },
  {
   "cell_type": "code",
   "execution_count": 13,
   "metadata": {
    "collapsed": false
   },
   "outputs": [
    {
     "name": "stdout",
     "output_type": "stream",
     "text": [
      "{u'human_annotations': {u'human1': [333, 98, 511, 667]},\n",
      " u'image_id': u'c681fcce2fab08692d11100fd8195353cf27a631',\n",
      " u'keypoint_annotations': {u'human1': [469,\n",
      "                                       181,\n",
      "                                       1,\n",
      "                                       499,\n",
      "                                       290,\n",
      "                                       1,\n",
      "                                       493,\n",
      "                                       342,\n",
      "                                       1,\n",
      "                                       373,\n",
      "                                       178,\n",
      "                                       1,\n",
      "                                       356,\n",
      "                                       280,\n",
      "                                       1,\n",
      "                                       361,\n",
      "                                       309,\n",
      "                                       1,\n",
      "                                       462,\n",
      "                                       378,\n",
      "                                       1,\n",
      "                                       468,\n",
      "                                       506,\n",
      "                                       1,\n",
      "                                       481,\n",
      "                                       622,\n",
      "                                       1,\n",
      "                                       400,\n",
      "                                       382,\n",
      "                                       1,\n",
      "                                       397,\n",
      "                                       507,\n",
      "                                       1,\n",
      "                                       394,\n",
      "                                       621,\n",
      "                                       1,\n",
      "                                       368,\n",
      "                                       115,\n",
      "                                       1,\n",
      "                                       402,\n",
      "                                       156,\n",
      "                                       1]},\n",
      " u'url': u'http://news.sogou.com/'}\n",
      "1\n"
     ]
    }
   ],
   "source": [
    "obj = json.load(open(jsonpath,\"rb\"))\n",
    "pprint(obj[0])\n",
    "pprint(len(obj[0]['keypoint_annotations']))"
   ]
  },
  {
   "cell_type": "code",
   "execution_count": 14,
   "metadata": {
    "collapsed": false
   },
   "outputs": [
    {
     "ename": "SyntaxError",
     "evalue": "invalid syntax (<ipython-input-14-488065c63760>, line 1)",
     "output_type": "error",
     "traceback": [
      "\u001b[1;36m  File \u001b[1;32m\"<ipython-input-14-488065c63760>\"\u001b[1;36m, line \u001b[1;32m1\u001b[0m\n\u001b[1;33m    def pase_one_img(imgid,human_annotations,keypoint_annotations)\u001b[0m\n\u001b[1;37m                                                                  ^\u001b[0m\n\u001b[1;31mSyntaxError\u001b[0m\u001b[1;31m:\u001b[0m invalid syntax\n"
     ]
    }
   ],
   "source": [
    "def pase_one_img(imgid,human_annotations,keypoint_annotations):\n",
    "    pass"
   ]
  },
  {
   "cell_type": "code",
   "execution_count": null,
   "metadata": {
    "collapsed": true
   },
   "outputs": [],
   "source": [
    "def has_all_keypoints(keypoints):\n",
    "    r = True\n",
    "    for i in range(len(keypoints)/3):\n",
    "        v = keypoints[i*3 + 2]\n",
    "        r &= v<=1\n",
    "    return r\n",
    "for oneimg in obj:\n",
    "    human_annotations = oneimg['human_annotations']\n",
    "    keypoint_annotations = oneimg['keypoint_annotations']\n",
    "    all_has_all_points = True\n",
    "    for key in human_annotations.keys():\n",
    "        onehuman_rect = human_annotations[key]\n",
    "        onehuman_keypoint = human_annotations[key]\n",
    "        all_has_all_points &= has_all_keypoints(onehuman_keypoint)\n",
    "    if all_has_all_points:\n",
    "        pass\n",
    "        "
   ]
  }
 ],
 "metadata": {
  "kernelspec": {
   "display_name": "Python 2",
   "language": "python",
   "name": "python2"
  },
  "language_info": {
   "codemirror_mode": {
    "name": "ipython",
    "version": 2
   },
   "file_extension": ".py",
   "mimetype": "text/x-python",
   "name": "python",
   "nbconvert_exporter": "python",
   "pygments_lexer": "ipython2",
   "version": "2.7.13"
  }
 },
 "nbformat": 4,
 "nbformat_minor": 0
}
