{
 "cells": [
  {
   "cell_type": "code",
   "execution_count": null,
   "metadata": {
    "collapsed": false
   },
   "outputs": [],
   "source": [
    "from showdataset import Ai_data_set\n",
    "from modelCPMWeight import CPMModel,numofparts,numoflinks\n",
    "from pprint import pprint\n",
    "import numpy as np\n",
    "import matplotlib.pyplot as plt\n",
    "%matplotlib inline\n",
    "def imshow(x,y):\n",
    "    fig = plt.gcf();fig.set_size_inches(8, 8);plt.title(x); plt.imshow(y);plt.show()"
   ]
  },
  {
   "cell_type": "code",
   "execution_count": null,
   "metadata": {
    "collapsed": false
   },
   "outputs": [],
   "source": [
    "train_data = Ai_data_set(10,\"ai_100.db\")"
   ]
  },
  {
   "cell_type": "code",
   "execution_count": null,
   "metadata": {
    "collapsed": false,
    "scrolled": false
   },
   "outputs": [],
   "source": [
    "for nbatch,data_batch in enumerate(train_data):\n",
    "    heatmap_batch,pagmap_batch,heatweight_batch,vecweight_batch = data_batch.label\n",
    "    images = data_batch.data[0]\n",
    "    for img,heatmap,pagmap,heatweight,vecweight in zip(\n",
    "            images,heatmap_batch,pagmap_batch,heatweight_batch,vecweight_batch):\n",
    "        img = np.uint8((img.asnumpy()+0.5)*255)\n",
    "        heatmap = heatmap.asnumpy()\n",
    "        pagmap = pagmap.asnumpy()\n",
    "        img = np.transpose(img,[1,2,0])\n",
    "        img = img[:,:,(2,1,0)]\n",
    "        pprint(img.shape)\n",
    "        imshow(\"img\",img)\n",
    "#         pprint(paf.shape)\n",
    "        for i in range(15):\n",
    "            pprint(np.max(heatmap[i,:,:]))\n",
    "            imshow(\"heatmap_{0}\".format(i),heatmap[i,:,:] )        \n",
    "        pafs = []\n",
    "        for i in range(13):\n",
    "            paf = np.sqrt(pagmap[i * 2,:,:].astype(np.float32) ** 2 +\n",
    "                          pagmap[i *2 +1,:,:].astype(np.float32) **2) \n",
    "            pafs.append(paf)\n",
    "            imshow(\"paf_avg_{0}\".format(i),paf)\n",
    "        imshow(\"paf_avg\",np.max(pafs,axis = 0))    \n",
    "        imshow(\"heatweight\",heatweight[0].asnumpy())\n",
    "        imshow(\"vecweight\",vecweight[0].asnumpy())"
   ]
  },
  {
   "cell_type": "code",
   "execution_count": null,
   "metadata": {
    "collapsed": true
   },
   "outputs": [],
   "source": []
  },
  {
   "cell_type": "code",
   "execution_count": null,
   "metadata": {
    "collapsed": true
   },
   "outputs": [],
   "source": []
  },
  {
   "cell_type": "code",
   "execution_count": null,
   "metadata": {
    "collapsed": true
   },
   "outputs": [],
   "source": []
  }
 ],
 "metadata": {
  "kernelspec": {
   "display_name": "Python 2",
   "language": "python",
   "name": "python2"
  },
  "language_info": {
   "codemirror_mode": {
    "name": "ipython",
    "version": 2
   },
   "file_extension": ".py",
   "mimetype": "text/x-python",
   "name": "python",
   "nbconvert_exporter": "python",
   "pygments_lexer": "ipython2",
   "version": "2.7.13"
  }
 },
 "nbformat": 4,
 "nbformat_minor": 0
}
